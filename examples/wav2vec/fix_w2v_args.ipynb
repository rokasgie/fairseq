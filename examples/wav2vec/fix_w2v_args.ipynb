{
 "cells": [
  {
   "cell_type": "code",
   "execution_count": 1,
   "metadata": {},
   "outputs": [],
   "source": [
    "from fairseq.checkpoint_utils import load_checkpoint_to_cpu\n",
    "import torch"
   ]
  },
  {
   "cell_type": "code",
   "execution_count": 4,
   "metadata": {},
   "outputs": [],
   "source": [
    "pretrained = \"/home/jupyter/ino-voice/models/pretrained/xlsr/xlsr_53_56k_adjusted.pt\"\n",
    "current = \"/home/jupyter/ino-voice/models/finetuned/xlsr-lt/checkpoint_best.pt\"\n",
    "adjusted = \"/home/jupyter/ino-voice/models/finetuned/xlsr-lt/checkpoint_best_adjusted.pt\""
   ]
  },
  {
   "cell_type": "code",
   "execution_count": 5,
   "metadata": {},
   "outputs": [],
   "source": [
    "state = load_checkpoint_to_cpu(current, {})\n",
    "pretrained_state = load_checkpoint_to_cpu(pretrained, {})"
   ]
  },
  {
   "cell_type": "code",
   "execution_count": 6,
   "metadata": {},
   "outputs": [],
   "source": [
    "state[\"cfg\"].model.w2v_args = pretrained_state[\"cfg\"]\n",
    "state[\"cfg\"].model.w2v_path = \"\"\n",
    "# tmp_state[\"cfg\"].model.w2v_args[\"task\"] = tmp_state[\"cfg\"].task\n",
    "# tmp_state[\"cfg\"].model.w2v_args[\"model\"] = tmp_state[\"cfg\"].model"
   ]
  },
  {
   "cell_type": "code",
   "execution_count": 7,
   "metadata": {},
   "outputs": [],
   "source": [
    "torch.save(state, adjusted)"
   ]
  }
 ],
 "metadata": {
  "kernelspec": {
   "display_name": "Python 3",
   "language": "python",
   "name": "python3"
  },
  "language_info": {
   "codemirror_mode": {
    "name": "ipython",
    "version": 3
   },
   "file_extension": ".py",
   "mimetype": "text/x-python",
   "name": "python",
   "nbconvert_exporter": "python",
   "pygments_lexer": "ipython3",
   "version": "3.7.9"
  }
 },
 "nbformat": 4,
 "nbformat_minor": 4
}
